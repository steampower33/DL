{
 "cells": [
  {
   "cell_type": "code",
   "execution_count": null,
   "id": "66da346b-64d3-4b92-a679-8656bd8480f1",
   "metadata": {},
   "outputs": [],
   "source": [
    "# 참고 : https://tutorials.pytorch.kr/beginner/basics/data_tutorial.html"
   ]
  },
  {
   "cell_type": "code",
   "execution_count": null,
   "id": "ebe95dd0-b74d-4d04-aee8-2bc947119891",
   "metadata": {},
   "outputs": [],
   "source": [
    "import torch\n",
    "from torch.utils.data import Dataset\n",
    "from torchvision import datasets\n",
    "from torchvision.transforms import ToTensor\n",
    "import matplotlib.pyplot as plt\n",
    "\n",
    "training_data = datasets.FashionMNIST(\n",
    "    root=\"data\",\n",
    "    train=True,\n",
    "    download=True,\n",
    "    transform=ToTensor()\n",
    ")\n",
    "\n",
    "test_data = datasets.MNIST(\n",
    "    root=\"data\",\n",
    "    train=False,\n",
    "    download=True,\n",
    "    transform=ToTensor()\n",
    ")"
   ]
  },
  {
   "cell_type": "code",
   "execution_count": null,
   "id": "e464dc83-0a90-4f0b-81c6-ecf84df62230",
   "metadata": {},
   "outputs": [],
   "source": [
    "# 디바이스를 cuda, cpu\n",
    "# macos사용자는 아래의 코드 참조\n",
    "#device = torch.device('mps:0' if torch.backends.mps.is_available() else 'cpu')\n",
    "device = \"cuda\" if torch.cuda.is_available() else \"cpu\"\n",
    "print(torch.cuda.is_available())\n",
    "print(device)"
   ]
  },
  {
   "cell_type": "code",
   "execution_count": null,
   "id": "279091df-6b3b-4959-b226-b65819f6403f",
   "metadata": {},
   "outputs": [],
   "source": [
    "from torchvision import transforms\n",
    "\n",
    "# 이미지를 정규화(Normalize) : 0~255 uint8 -> 0~1사이의 float\n",
    "transform = transforms.Compose([\n",
    "    transforms.ToTensor(),\n",
    "    # 평균, 표준편차\n",
    "    transforms.Normalize((0.2860,), (0.3530,))\n",
    "])"
   ]
  },
  {
   "cell_type": "code",
   "execution_count": null,
   "id": "b4db406c-cd3b-42ae-a811-d79afb7a3fb6",
   "metadata": {},
   "outputs": [],
   "source": [
    "train_ratio = 0.8\n",
    "\n",
    "train_size = int(len(training_data) * train_ratio)\n",
    "valid_size = int(len(training_data) - train_size)\n",
    "\n",
    "print(train_size, valid_size)"
   ]
  },
  {
   "cell_type": "code",
   "execution_count": null,
   "id": "e43cf906-1775-4437-a4d4-016d5b7dc906",
   "metadata": {},
   "outputs": [],
   "source": [
    "from torch.utils.data import random_split\n",
    "\n",
    "# random_split으로 데이터 나누기\n",
    "train_dataset, valid_dataset = random_split(training_data, [train_size, valid_size])"
   ]
  },
  {
   "cell_type": "code",
   "execution_count": null,
   "id": "555026af-a59a-4401-bc61-8b67d58b853e",
   "metadata": {},
   "outputs": [],
   "source": [
    "from torch.utils.data import DataLoader\n",
    "\n",
    "batch_size = 64\n",
    "\n",
    "# 데이터 로더에 넣기\n",
    "train_loader = DataLoader(train_dataset, batch_size=batch_size, shuffle=True)\n",
    "valid_loader = DataLoader(valid_dataset, batch_size=batch_size, shuffle=False)\n",
    "test_loader = DataLoader(test_data, batch_size=batch_size, shuffle=False)"
   ]
  },
  {
   "cell_type": "code",
   "execution_count": null,
   "id": "9eaa83f6-3035-4083-aef1-9b51dea96596",
   "metadata": {},
   "outputs": [],
   "source": [
    "for images,labels in train_loader:\n",
    "    images[0]\n",
    "    labels[0]\n",
    "    print(images.shape)\n",
    "    print(labels.shape)\n",
    "    break"
   ]
  },
  {
   "cell_type": "code",
   "execution_count": null,
   "id": "f7fcdf80-dd7c-41b9-8fe0-5022a13d37b3",
   "metadata": {},
   "outputs": [],
   "source": [
    "labels_map = {\n",
    "    0: \"T-Shirt\",\n",
    "    1: \"Trouser\",\n",
    "    2: \"Pullover\",\n",
    "    3: \"Dress\",\n",
    "    4: \"Coat\",\n",
    "    5: \"Sandal\",\n",
    "    6: \"Shirt\",\n",
    "    7: \"Sneaker\",\n",
    "    8: \"Bag\",\n",
    "    9: \"Ankle Boot\",\n",
    "}"
   ]
  },
  {
   "cell_type": "code",
   "execution_count": null,
   "id": "4c26cfaf-48e1-444d-b010-9b4df9dcb0a6",
   "metadata": {},
   "outputs": [],
   "source": [
    "# 이미지를 시각화\n",
    "# batch_size=64라서 0~63번 index중에 한장을 선택해서 시각화\n",
    "import random\n",
    "\n",
    "idx = random.randint(0,63)\n",
    "plt.figure(figsize=(3,3))\n",
    "plt.imshow(images[idx].squeeze(), cmap='gray')\n",
    "plt.show()\n",
    "print(labels[idx].item())"
   ]
  },
  {
   "cell_type": "code",
   "execution_count": null,
   "id": "5dfc4d89-0c1f-413c-935e-a13da6443202",
   "metadata": {},
   "outputs": [],
   "source": [
    "# nxn으로 이미지를 출력\n",
    "n = 5\n",
    "\n",
    "fig = plt.figure(figsize=(10, 10))\n",
    "\n",
    "for i in range(n * n):\n",
    "    idx = random.randint(0, 63)\n",
    "    plt.subplot(n, n, i + 1)\n",
    "    plt.imshow(images[idx].squeeze(), cmap='gray')\n",
    "    plt.title(labels_map[labels[idx].item()])\n",
    "    plt.axis('off')\n",
    "\n",
    "# 하단 공간을 늘리기 위해 추가\n",
    "plt.subplots_adjust(hspace=0.4, bottom=0.2)\n",
    "\n",
    "plt.show()"
   ]
  },
  {
   "cell_type": "code",
   "execution_count": null,
   "id": "28c6c6c2-4859-4414-aafd-0f85e5b2b7e7",
   "metadata": {},
   "outputs": [],
   "source": [
    "from collections import Counter\n",
    "\n",
    "labels = training_data.targets  # train_dataset.targets에 라벨 정보가 저장됨\n",
    "\n",
    "\n",
    "# 고유한 클래스와 갯수 확인\n",
    "class_count = Counter(labels.numpy())\n",
    "num_classes = len(class_count)\n",
    "\n",
    "print(f\"MNIST 데이터셋의 클래스 수: {num_classes}\")\n",
    "print(f\"각 클래스별 이미지 개수: {class_count}\")"
   ]
  },
  {
   "cell_type": "code",
   "execution_count": null,
   "id": "d16a82f2-b40a-4f1b-8593-07c919b1f84a",
   "metadata": {},
   "outputs": [],
   "source": [
    "# 신경망을 구성\n",
    "# 신경망 모델 정의\n",
    "inputNode = 28 * 28 # 이미지의 픽셀 갯수\n",
    "hiddenNode1 = 512\n",
    "hiddenNode2 = 256\n",
    "outputNode = 10 #(0~9)\n",
    "\n",
    "import torch.nn as nn\n",
    "import torch.nn.functional as F\n",
    "\n",
    "# 신경망 모델 정의\n",
    "class Net(nn.Module):\n",
    "    def __init__(self):\n",
    "        super(Net, self).__init__()\n",
    "        self.fc1 = nn.Linear(28 * 28, 512)  # 입력 레이어 -> 첫 번째 중간 레이어\n",
    "        self.fc2 = nn.Linear(512, 256)      # 첫 번째 중간 레이어 -> 두 번째 중간 레이어\n",
    "        self.fc3 = nn.Linear(256, 10)       # 두 번째 중간 레이어 -> 출력 레이어 (10개 클래스)\n",
    "\n",
    "    def forward(self, x):\n",
    "        x = x.view(-1, 28 * 28)  # 입력 이미지를 일렬로 펴서 28*28=784 크기의 벡터로 변환\n",
    "        x = F.relu(self.fc1(x))  # 첫 번째 중간 레이어에서 ReLU 활성화 함수 적용\n",
    "        x = F.relu(self.fc2(x))  # 두 번째 중간 레이어에서 ReLU 활성화 함수 적용\n",
    "        x = self.fc3(x)          # 출력 레이어\n",
    "        return x"
   ]
  },
  {
   "cell_type": "code",
   "execution_count": null,
   "id": "9b636e31-3c1e-4b42-9ce8-346985ff43f7",
   "metadata": {},
   "outputs": [],
   "source": [
    "lr = 0.001\n",
    "\n",
    "# 훈련\n",
    "# 가속을 위해 신경망을 GPU에서 구성\n",
    "model = Net().to(device)\n",
    "\n",
    "# 다중 분류를 위한 손실계산 함수\n",
    "loss_fn = nn.CrossEntropyLoss()\n",
    "optimizer = torch.optim.Adam(model.parameters(), lr=lr)"
   ]
  },
  {
   "cell_type": "code",
   "execution_count": null,
   "id": "c14debbb-b8ca-47f5-8949-ce44050aba95",
   "metadata": {},
   "outputs": [],
   "source": [
    "train_loss_list = []\n",
    "valid_loss_list = []\n",
    "train_acc_list = []\n",
    "valid_acc_list = []"
   ]
  },
  {
   "cell_type": "code",
   "execution_count": null,
   "id": "b3969514-867c-46ee-baac-49f3f4dba5d8",
   "metadata": {},
   "outputs": [],
   "source": [
    "def train(model, train_loader, loss_fn, optimizer):\n",
    "    train_correct = 0\n",
    "    train_total = 0\n",
    "    \n",
    "    # 신경망의 모드를 훈련모드로 설정\n",
    "    model.train()\n",
    "    \n",
    "    # 매 epoch마다 업데이트 되는 loss를 누적하는 변수\n",
    "    train_loss = 0.0\n",
    "\n",
    "    # batch 사이즈 만큼 이미지와 레이블을 가져옴\n",
    "    for images, labels in train_loader:\n",
    "        images, labels = images.to(device), labels.to(device)\n",
    "\n",
    "        # 기울기 0으로 초기화\n",
    "        optimizer.zero_grad()\n",
    "\n",
    "        # 이미지로 추론해서 예측값 출력\n",
    "        y_pred = model(images)\n",
    "\n",
    "        # 손실값 계산 \n",
    "        loss = loss_fn(y_pred, labels)\n",
    "\n",
    "        # 오차 역전파법으로 경사하강법 기울기 구하기\n",
    "        loss.backward()\n",
    "\n",
    "        # 실제 W, b값 업데이트 하기\n",
    "        optimizer.step() # W_new = W_old - lr * grad(w)\n",
    "\n",
    "        _, predicted = torch.max(y_pred.data, 1)\n",
    "        train_total += labels.size(0)\n",
    "        train_correct += (predicted == labels).sum().item()\n",
    "        \n",
    "        # loss 값 누적하기\n",
    "        train_loss += loss.item()\n",
    "\n",
    "    train_loss_list.append(train_loss)\n",
    "    train_acc = (train_correct / train_total) * 100\n",
    "    train_acc_list.append(train_acc)\n",
    "    return train_loss"
   ]
  },
  {
   "cell_type": "code",
   "execution_count": null,
   "id": "dbe236dd-a38f-4631-abfe-c358f9fe13d2",
   "metadata": {},
   "outputs": [],
   "source": [
    "def valid(model, valid_loader, loss_fn):\n",
    "    model.eval()\n",
    "    valid_loss = 0.0\n",
    "    correct = 0\n",
    "    total = 0\n",
    "\n",
    "    # 기울기를 구하지 않는다.\n",
    "    with torch.no_grad():\n",
    "        for images, labels in valid_loader:\n",
    "            images, labels = images.to(device), labels.to(device)\n",
    "            y_pred = model(images)\n",
    "            loss = loss_fn(y_pred, labels)\n",
    "            valid_loss += loss.item()\n",
    "            logit, predicted = torch.max(y_pred.data, 1)\n",
    "            total += labels.size(0)\n",
    "            correct += (predicted == labels).sum().item()\n",
    "    \n",
    "    valid_loss_list.append(valid_loss)\n",
    "    accuracy = (correct / total) * 100\n",
    "    valid_acc_list.append(accuracy)\n",
    "    return valid_loss, accuracy"
   ]
  },
  {
   "cell_type": "code",
   "execution_count": null,
   "id": "75363a86-0f8d-4057-87e5-4d4c1460400b",
   "metadata": {},
   "outputs": [],
   "source": [
    "epochs = 10\n",
    "for epoch in range(epochs):\n",
    "    # 매 epoch마다 parameter(가중치) 학습\n",
    "    train_loss = train(model, train_loader, loss_fn, optimizer)\n",
    "    \n",
    "    # 매 epoch마다 loss, 값을 출력\n",
    "    print(f\"Epoch {epoch + 1}/{epochs}, Train Loss: {train_loss / len(train_loader)}\")\n",
    "\n",
    "    valid_loss, valid_acc = valid(model, valid_loader, loss_fn)\n",
    "\n",
    "    print(f\"Valid Loss: {valid_loss / len(valid_loader)}, Accuray: {valid_acc}%\")"
   ]
  },
  {
   "cell_type": "code",
   "execution_count": null,
   "id": "513bcce8-d069-4211-bb16-8a4d2144ddd4",
   "metadata": {},
   "outputs": [],
   "source": [
    "len(train_loss_list)"
   ]
  },
  {
   "cell_type": "code",
   "execution_count": null,
   "id": "d3200a8f-0a97-49e5-be64-b81477699844",
   "metadata": {},
   "outputs": [],
   "source": [
    "import matplotlib.pyplot as plt\n",
    "\n",
    "plt.figure()\n",
    "plt.plot(range(1,epochs+1), train_loss_list, label='Train Loss')\n",
    "plt.plot(range(1,epochs+1), valid_loss_list, label='Valid Loss')\n",
    "plt.xlabel('Epoch')\n",
    "plt.ylabel('Loss')\n",
    "plt.legend()\n",
    "plt.show()"
   ]
  },
  {
   "cell_type": "code",
   "execution_count": null,
   "id": "2cd3b245-4d9e-4492-ab5d-ee261f79e6fb",
   "metadata": {},
   "outputs": [],
   "source": [
    "plt.figure()\n",
    "plt.plot(range(1,epochs+1), train_acc_list, label='Train Acc')\n",
    "plt.plot(range(1,epochs+1), valid_acc_list, label='Valid Acc')\n",
    "plt.xlabel('Epoch')\n",
    "plt.ylabel('acc')\n",
    "plt.legend()\n",
    "plt.show()"
   ]
  }
 ],
 "metadata": {
  "kernelspec": {
   "display_name": "Python 3 (ipykernel)",
   "language": "python",
   "name": "python3"
  },
  "language_info": {
   "codemirror_mode": {
    "name": "ipython",
    "version": 3
   },
   "file_extension": ".py",
   "mimetype": "text/x-python",
   "name": "python",
   "nbconvert_exporter": "python",
   "pygments_lexer": "ipython3",
   "version": "3.10.14"
  }
 },
 "nbformat": 4,
 "nbformat_minor": 5
}
