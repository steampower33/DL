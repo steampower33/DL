{
 "cells": [
  {
   "cell_type": "code",
   "execution_count": 1,
   "id": "6bf4e0ee-e116-4fca-b575-7c88f1b3bc20",
   "metadata": {},
   "outputs": [],
   "source": [
    "import torch\n",
    "import torch.nn as nn\n",
    "import torch.nn.functional as F\n",
    "import torch.optim as optim\n",
    "from torch.utils.data import DataLoader, Subset, random_split\n",
    "\n",
    "import torchvision.transforms as transforms\n",
    "import torchvision.datasets as datasets\n",
    "import torchvision.models as models\n",
    "from torchvision.models import EfficientNet_B0_Weights\n",
    "\n",
    "from tqdm import tqdm\n",
    "\n",
    "from sklearn.model_selection import train_test_split"
   ]
  },
  {
   "cell_type": "code",
   "execution_count": 2,
   "id": "759d97f1-2b4f-4444-bc56-712afcc3284a",
   "metadata": {},
   "outputs": [],
   "source": [
    "# import time\n",
    "\n",
    "# with tqdm(total=10, desc=\"Train\") as pbar:\n",
    "#     for i in range(10):\n",
    "#         time.sleep(1)\n",
    "#         pbar.update(1)"
   ]
  },
  {
   "cell_type": "code",
   "execution_count": 3,
   "id": "fbe0d7aa",
   "metadata": {},
   "outputs": [],
   "source": [
    "\n",
    "lr = 1e-4\n",
    "epochs = 50\n",
    "\n",
    "# 입력 이미지 (3, 32, 32)\n",
    "# 출력 label -> 0~9\n",
    "classes = 10\n",
    "\n",
    "train_losses = []\n",
    "valid_losses = []\n",
    "train_accuracies = []\n",
    "valid_accuracies = []\n",
    "\n",
    "train_ratio = 0.8\n",
    "batch_size = 128  # 원하는 배치 크기 설정\n",
    "num_workers = 4"
   ]
  },
  {
   "cell_type": "code",
   "execution_count": 4,
   "id": "82a08e72-425b-4d73-9bdb-b72d14b6706e",
   "metadata": {},
   "outputs": [
    {
     "name": "stdout",
     "output_type": "stream",
     "text": [
      "Files already downloaded and verified\n",
      "Files already downloaded and verified\n"
     ]
    }
   ],
   "source": [
    "# 데이터 증강 및 정규화를 위한 변환 설정\n",
    "transform_train = transforms.Compose([\n",
    "    transforms.RandomCrop(32, padding=4),  # 데이터 증강: 랜덤하게 잘라내기\n",
    "    transforms.RandomHorizontalFlip(),      # 데이터 증강: 랜덤하게 좌우 반전\n",
    "    transforms.ToTensor(),\n",
    "    transforms.Normalize(mean=[0.485, 0.456, 0.406], std=[0.229, 0.224, 0.225]),  # ImageNet 정규화 값\n",
    "])\n",
    "\n",
    "# test셋은 증식 X\n",
    "transform_test = transforms.Compose([\n",
    "    transforms.ToTensor(),\n",
    "    transforms.Normalize(mean=[0.485, 0.456, 0.406], std=[0.229, 0.224, 0.225]),  # ImageNet 정규화 값\n",
    "])\n",
    "\n",
    "# CIFAR10 데이터셋 불러오기\n",
    "full_train_dataset = datasets.CIFAR10(root='./data', train=True, download=True, transform=transform_train)\n",
    "test_dataset = datasets.CIFAR10(root='./data', train=False, download=True, transform=transform_test)\n",
    "\n",
    "\n",
    "# random split을 사용하여 데이터셋을 나눔\n",
    "# train_size = int(len(full_train_dataset) * train_ratio)\n",
    "# valid_size = len(full_train_dataset) - train_size\n",
    "# train_dataset, valid_dataset = random_split(full_train_dataset, [train_size, valid_size])\n",
    "\n",
    "# 레이블을 추출 (각 데이터의 클래스 라벨)\n",
    "labels = [full_train_dataset[i][1] for i in range(len(full_train_dataset))]\n",
    "\n",
    "# train_test_split을 사용하여 데이터셋을 균등하게 나눔 (stratify 사용)\n",
    "train_indices, valid_indices = train_test_split(\n",
    "    range(len(full_train_dataset)),\n",
    "    test_size=0.2,  # 검증 데이터 비율 (20%)\n",
    "    stratify=labels,  # 클래스 비율을 유지하면서 분할\n",
    "    random_state=42  # 결과 재현성을 위해 랜덤 시드 고정\n",
    ")\n",
    "\n",
    "# Subset을 사용하여 나눈 인덱스를 기반으로 학습과 검증 데이터셋을 생성\n",
    "train_dataset = Subset(full_train_dataset, train_indices)\n",
    "valid_dataset = Subset(full_train_dataset, valid_indices)\n",
    "\n",
    "# 데이터 로더 생성\n",
    "train_loader = DataLoader(train_dataset, batch_size=batch_size, shuffle=True, num_workers=num_workers)\n",
    "valid_loader = DataLoader(valid_dataset, batch_size=batch_size, shuffle=True, num_workers=num_workers)\n",
    "test_loader = DataLoader(test_dataset, batch_size=batch_size, shuffle=False, num_workers=num_workers)"
   ]
  },
  {
   "cell_type": "code",
   "execution_count": 5,
   "id": "87451a91",
   "metadata": {},
   "outputs": [
    {
     "name": "stdout",
     "output_type": "stream",
     "text": [
      "Train dataset class distribution:\n",
      "Class 0: 4000 samples\n",
      "Class 1: 4000 samples\n",
      "Class 2: 4000 samples\n",
      "Class 3: 4000 samples\n",
      "Class 4: 4000 samples\n",
      "Class 5: 4000 samples\n",
      "Class 6: 4000 samples\n",
      "Class 7: 4000 samples\n",
      "Class 8: 4000 samples\n",
      "Class 9: 4000 samples\n",
      "\n",
      "Validation dataset class distribution:\n",
      "Class 0: 1000 samples\n",
      "Class 1: 1000 samples\n",
      "Class 2: 1000 samples\n",
      "Class 3: 1000 samples\n",
      "Class 4: 1000 samples\n",
      "Class 5: 1000 samples\n",
      "Class 6: 1000 samples\n",
      "Class 7: 1000 samples\n",
      "Class 8: 1000 samples\n",
      "Class 9: 1000 samples\n"
     ]
    }
   ],
   "source": [
    "import numpy as np\n",
    "from collections import Counter\n",
    "\n",
    "# CIFAR-10에서 클래스는 0~9까지\n",
    "num_classes = 10\n",
    "\n",
    "# Train 데이터셋의 라벨 분포 확인\n",
    "train_labels = [full_train_dataset[i][1] for i in train_dataset.indices]\n",
    "train_label_counts = Counter(train_labels)\n",
    "\n",
    "print(\"Train dataset class distribution:\")\n",
    "for i in range(num_classes):\n",
    "    print(f\"Class {i}: {train_label_counts[i]} samples\")\n",
    "\n",
    "# Valid 데이터셋의 라벨 분포 확인\n",
    "valid_labels = [full_train_dataset[i][1] for i in valid_dataset.indices]\n",
    "valid_label_counts = Counter(valid_labels)\n",
    "\n",
    "print(\"\\nValidation dataset class distribution:\")\n",
    "for i in range(num_classes):\n",
    "    print(f\"Class {i}: {valid_label_counts[i]} samples\")"
   ]
  },
  {
   "cell_type": "code",
   "execution_count": 6,
   "id": "732561fb-74b0-48f2-8bc8-784975c2d414",
   "metadata": {},
   "outputs": [],
   "source": [
    "class CIFAR10Net(nn.Module):\n",
    "    def __init__(self):\n",
    "        super(CIFAR10Net, self).__init__()\n",
    "        # 합성곱 레이어 1\n",
    "        self.conv1 = nn.Conv2d(3, 32, kernel_size=3, padding=1)  # 입력 채널: 3, 출력 채널: 32\n",
    "        self.bn1 = nn.BatchNorm2d(32)  # 배치 정규화\n",
    "        \n",
    "        # 합성곱 레이어 2\n",
    "        self.conv2 = nn.Conv2d(32, 64, kernel_size=3, padding=1) # 입력 채널: 32, 출력 채널: 64\n",
    "        self.bn2 = nn.BatchNorm2d(64)\n",
    "\n",
    "        # 합성곱 레이어 3\n",
    "        self.conv3 = nn.Conv2d(64, 128, kernel_size=3, padding=1) # 입력 채널: 64, 출력 채널: 128\n",
    "        self.bn3 = nn.BatchNorm2d(128)\n",
    "\n",
    "        # 완전 연결 레이어\n",
    "        self.fc1 = nn.Linear(128 * 4 * 4, 512)  # 128 채널의 4x4 특성 맵을 512 유닛으로 변환\n",
    "        self.fc2 = nn.Linear(512, classes)  # 512 유닛을 10개의 클래스로 변환\n",
    "\n",
    "    def forward(self, x):\n",
    "        # 합성곱 레이어 1\n",
    "        x = self.conv1(x)\n",
    "        x = self.bn1(x)\n",
    "        x = F.relu(x)\n",
    "        x = F.max_pool2d(x, kernel_size=2, stride=2)  # 맥스 풀링\n",
    "\n",
    "        # 합성곱 레이어 2\n",
    "        x = self.conv2(x)\n",
    "        x = self.bn2(x)\n",
    "        x = F.relu(x)\n",
    "        x = F.max_pool2d(x, kernel_size=2, stride=2)  # 맥스 풀링\n",
    "\n",
    "        # 합성곱 레이어 3\n",
    "        x = self.conv3(x)\n",
    "        x = self.bn3(x)\n",
    "        x = F.relu(x)\n",
    "        x = F.max_pool2d(x, kernel_size=2, stride=2)  # 맥스 풀링\n",
    "\n",
    "        # 완전 연결 레이어\n",
    "        x = x.view(-1, 128 * 4 * 4)  # 텐서를 1차원으로 펼치기\n",
    "        x = F.relu(self.fc1(x))\n",
    "        x = self.fc2(x)\n",
    "        return x"
   ]
  },
  {
   "cell_type": "code",
   "execution_count": 7,
   "id": "0bd6d74b-4f3c-4141-a9de-3f5c75b229e2",
   "metadata": {},
   "outputs": [],
   "source": [
    "device = torch.device(\"cuda\" if torch.cuda.is_available() else \"cpu\")"
   ]
  },
  {
   "cell_type": "code",
   "execution_count": 8,
   "id": "8d191b07-75c7-4f86-a20e-badcfb752807",
   "metadata": {},
   "outputs": [
    {
     "name": "stdout",
     "output_type": "stream",
     "text": [
      "Sequential(\n",
      "  (0): Dropout(p=0.2, inplace=True)\n",
      "  (1): Linear(in_features=1280, out_features=10, bias=True)\n",
      ")\n"
     ]
    }
   ],
   "source": [
    "# model = CIFAR10Net().to(device)\n",
    "model = models.efficientnet_b0(weights=EfficientNet_B0_Weights.IMAGENET1K_V1).to(device)\n",
    "\n",
    "# finetuning\n",
    "model.classifier[1] = torch.nn.Linear(in_features=1280, out_features=classes).to(device)\n",
    "\n",
    "# 모델의 분류기(classifier) 구조 확인\n",
    "print(model.classifier)\n",
    "\n",
    "criterion = nn.CrossEntropyLoss()\n",
    "optimizer = optim.Adam(model.parameters(), lr=lr)"
   ]
  },
  {
   "cell_type": "code",
   "execution_count": 9,
   "id": "243004c7",
   "metadata": {},
   "outputs": [],
   "source": [
    "def train(model, train_loader, criterion, optimizer, epoch):\n",
    "    # 훈련 모드 설정\n",
    "    model.train()\n",
    "\n",
    "    train_loss=0\n",
    "    train_correct=0\n",
    "    train_total=0\n",
    "\n",
    "    startStr =f'Epoch {epoch+1:2d}/{epochs} \\033[34m' + 'Train'+ '\\033[0m'\n",
    "    with tqdm(total=len(train_loader), desc=startStr) as pbar:\n",
    "        for images, labels in train_loader:\n",
    "            images, labels = images.to(device), labels.to(device)\n",
    "\n",
    "            optimizer.zero_grad()\n",
    "            outputs = model(images)\n",
    "            loss = criterion(outputs, labels)\n",
    "            loss.backward()\n",
    "            optimizer.step()\n",
    "\n",
    "            train_loss += loss.item()\n",
    "            _, predicted = torch.max(outputs.data, 1)\n",
    "\n",
    "            train_total += labels.size(0)\n",
    "            train_correct += (predicted == labels).sum().item()\n",
    "            pbar.update(1)\n",
    "        train_loss = train_loss / train_total\n",
    "        train_accuracy = (train_correct / train_total)*100\n",
    "        train_losses.append(train_loss)\n",
    "        train_accuracies.append(train_accuracy)\n",
    "        endStr = f'Train Loss: {train_loss:.4f}, Train Acc: {train_accuracy:.4f}%'\n",
    "        # tqdm동작이 다 끝나면 그때 아래의 코드가 동작\n",
    "        print(endStr)\n",
    "        #pbar.set_postfix(endStr)"
   ]
  },
  {
   "cell_type": "code",
   "execution_count": 10,
   "id": "7def63ad-3dcf-4dad-b621-653338963c96",
   "metadata": {},
   "outputs": [],
   "source": [
    "def valid_or_test(mode, model, device, dataloader, epoch):\n",
    "    model.eval()\n",
    "    loss = 0.0\n",
    "    correct = 0\n",
    "    total = 0\n",
    "    with torch.no_grad():\n",
    "        if mode == 'valid':\n",
    "            startStr = f'Epoch {epoch+1:2d}/{epochs} \\033[34m' + 'Valid ' + '\\033[0m'\n",
    "        elif mode == 'test':\n",
    "            startStr = f'Epoch {epoch+1:2d}/{epochs} \\033[34m' + 'Test ' + '\\033[0m'\n",
    "\n",
    "        with tqdm(total=len(dataloader), desc=startStr) as pbar:\n",
    "            for data, target in dataloader:\n",
    "                data, target = data.to(device), target.to(device)\n",
    "                outputs = model(data)\n",
    "                loss = criterion(outputs, target)\n",
    "\n",
    "                loss += loss.item() * data.size(0)\n",
    "                _, predicted = torch.max(outputs, 1)\n",
    "                total += target.size(0)\n",
    "                correct += (predicted == target).sum().item()\n",
    "                pbar.update(1)\n",
    "\n",
    "            loss = loss / total\n",
    "            accuracy = 100 * correct / total\n",
    "            if mode == 'valid':\n",
    "                endStr = f'Valid Loss: {loss:.4f}, Valid Acc: {accuracy:.3f}%'\n",
    "            elif mode == 'test':\n",
    "                endStr = f'Test Loss: {loss:.4f}, Test Acc: {accuracy:.3f}%'\n",
    "            pbar.set_postfix_str(endStr)\n",
    "\n",
    "    if mode == 'valid':\n",
    "        valid_losses.append(loss.cpu())\n",
    "        valid_accuracies.append(accuracy)\n",
    "        print('-'*110)"
   ]
  },
  {
   "cell_type": "code",
   "execution_count": 11,
   "id": "e0dc33a7-b652-43dd-93bc-a1d896fb5cc1",
   "metadata": {},
   "outputs": [
    {
     "name": "stderr",
     "output_type": "stream",
     "text": [
      "Epoch  1/50 \u001b[34mTrain\u001b[0m: 100%|██████████| 313/313 [00:20<00:00, 14.92it/s]\n"
     ]
    },
    {
     "name": "stdout",
     "output_type": "stream",
     "text": [
      "Train Loss: 0.0148, Train Acc: 33.0125%\n"
     ]
    },
    {
     "name": "stderr",
     "output_type": "stream",
     "text": [
      "Epoch  1/50 \u001b[34mValid \u001b[0m: 100%|██████████| 79/79 [00:12<00:00,  6.23it/s, Valid Loss: 0.0024, Valid Acc: 49.620%]\n"
     ]
    },
    {
     "name": "stdout",
     "output_type": "stream",
     "text": [
      "--------------------------------------------------------------------------------------------------------------\n"
     ]
    },
    {
     "name": "stderr",
     "output_type": "stream",
     "text": [
      "Epoch  2/50 \u001b[34mTrain\u001b[0m: 100%|██████████| 313/313 [00:21<00:00, 14.76it/s]\n"
     ]
    },
    {
     "name": "stdout",
     "output_type": "stream",
     "text": [
      "Train Loss: 0.0103, Train Acc: 53.8275%\n"
     ]
    },
    {
     "name": "stderr",
     "output_type": "stream",
     "text": [
      "Epoch  2/50 \u001b[34mValid \u001b[0m: 100%|██████████| 79/79 [00:11<00:00,  6.62it/s, Valid Loss: 0.0025, Valid Acc: 59.790%]\n"
     ]
    },
    {
     "name": "stdout",
     "output_type": "stream",
     "text": [
      "--------------------------------------------------------------------------------------------------------------\n"
     ]
    },
    {
     "name": "stderr",
     "output_type": "stream",
     "text": [
      "Epoch  3/50 \u001b[34mTrain\u001b[0m: 100%|██████████| 313/313 [00:21<00:00, 14.62it/s]\n"
     ]
    },
    {
     "name": "stdout",
     "output_type": "stream",
     "text": [
      "Train Loss: 0.0085, Train Acc: 61.7250%\n"
     ]
    },
    {
     "name": "stderr",
     "output_type": "stream",
     "text": [
      "Epoch  3/50 \u001b[34mValid \u001b[0m: 100%|██████████| 79/79 [00:12<00:00,  6.28it/s, Valid Loss: 0.0018, Valid Acc: 65.330%]\n"
     ]
    },
    {
     "name": "stdout",
     "output_type": "stream",
     "text": [
      "--------------------------------------------------------------------------------------------------------------\n"
     ]
    },
    {
     "name": "stderr",
     "output_type": "stream",
     "text": [
      "Epoch  4/50 \u001b[34mTrain\u001b[0m: 100%|██████████| 313/313 [00:21<00:00, 14.58it/s]\n"
     ]
    },
    {
     "name": "stdout",
     "output_type": "stream",
     "text": [
      "Train Loss: 0.0076, Train Acc: 66.1875%\n"
     ]
    },
    {
     "name": "stderr",
     "output_type": "stream",
     "text": [
      "Epoch  4/50 \u001b[34mValid \u001b[0m: 100%|██████████| 79/79 [00:12<00:00,  6.12it/s, Valid Loss: 0.0015, Valid Acc: 69.550%]\n"
     ]
    },
    {
     "name": "stdout",
     "output_type": "stream",
     "text": [
      "--------------------------------------------------------------------------------------------------------------\n"
     ]
    },
    {
     "name": "stderr",
     "output_type": "stream",
     "text": [
      "Epoch  5/50 \u001b[34mTrain\u001b[0m: 100%|██████████| 313/313 [00:20<00:00, 15.25it/s]\n"
     ]
    },
    {
     "name": "stdout",
     "output_type": "stream",
     "text": [
      "Train Loss: 0.0069, Train Acc: 69.2300%\n"
     ]
    },
    {
     "name": "stderr",
     "output_type": "stream",
     "text": [
      "Epoch  5/50 \u001b[34mValid \u001b[0m: 100%|██████████| 79/79 [00:13<00:00,  6.06it/s, Valid Loss: 0.0012, Valid Acc: 72.190%]\n"
     ]
    },
    {
     "name": "stdout",
     "output_type": "stream",
     "text": [
      "--------------------------------------------------------------------------------------------------------------\n"
     ]
    },
    {
     "name": "stderr",
     "output_type": "stream",
     "text": [
      "Epoch  6/50 \u001b[34mTrain\u001b[0m: 100%|██████████| 313/313 [00:21<00:00, 14.84it/s]\n"
     ]
    },
    {
     "name": "stdout",
     "output_type": "stream",
     "text": [
      "Train Loss: 0.0063, Train Acc: 71.7675%\n"
     ]
    },
    {
     "name": "stderr",
     "output_type": "stream",
     "text": [
      "Epoch  6/50 \u001b[34mValid \u001b[0m: 100%|██████████| 79/79 [00:12<00:00,  6.52it/s, Valid Loss: 0.0019, Valid Acc: 73.470%]\n"
     ]
    },
    {
     "name": "stdout",
     "output_type": "stream",
     "text": [
      "--------------------------------------------------------------------------------------------------------------\n"
     ]
    },
    {
     "name": "stderr",
     "output_type": "stream",
     "text": [
      "Epoch  7/50 \u001b[34mTrain\u001b[0m: 100%|██████████| 313/313 [00:20<00:00, 15.06it/s]\n"
     ]
    },
    {
     "name": "stdout",
     "output_type": "stream",
     "text": [
      "Train Loss: 0.0058, Train Acc: 73.8300%\n"
     ]
    },
    {
     "name": "stderr",
     "output_type": "stream",
     "text": [
      "Epoch  7/50 \u001b[34mValid \u001b[0m: 100%|██████████| 79/79 [00:12<00:00,  6.26it/s, Valid Loss: 0.0015, Valid Acc: 74.930%]\n"
     ]
    },
    {
     "name": "stdout",
     "output_type": "stream",
     "text": [
      "--------------------------------------------------------------------------------------------------------------\n"
     ]
    },
    {
     "name": "stderr",
     "output_type": "stream",
     "text": [
      "Epoch  8/50 \u001b[34mTrain\u001b[0m: 100%|██████████| 313/313 [00:21<00:00, 14.78it/s]\n"
     ]
    },
    {
     "name": "stdout",
     "output_type": "stream",
     "text": [
      "Train Loss: 0.0054, Train Acc: 75.8000%\n"
     ]
    },
    {
     "name": "stderr",
     "output_type": "stream",
     "text": [
      "Epoch  8/50 \u001b[34mValid \u001b[0m: 100%|██████████| 79/79 [00:13<00:00,  5.88it/s, Valid Loss: 0.0011, Valid Acc: 76.220%]\n"
     ]
    },
    {
     "name": "stdout",
     "output_type": "stream",
     "text": [
      "--------------------------------------------------------------------------------------------------------------\n"
     ]
    },
    {
     "name": "stderr",
     "output_type": "stream",
     "text": [
      "Epoch  9/50 \u001b[34mTrain\u001b[0m: 100%|██████████| 313/313 [00:21<00:00, 14.62it/s]\n"
     ]
    },
    {
     "name": "stdout",
     "output_type": "stream",
     "text": [
      "Train Loss: 0.0051, Train Acc: 77.0350%\n"
     ]
    },
    {
     "name": "stderr",
     "output_type": "stream",
     "text": [
      "Epoch  9/50 \u001b[34mValid \u001b[0m: 100%|██████████| 79/79 [00:12<00:00,  6.37it/s, Valid Loss: 0.0014, Valid Acc: 77.380%]\n"
     ]
    },
    {
     "name": "stdout",
     "output_type": "stream",
     "text": [
      "--------------------------------------------------------------------------------------------------------------\n"
     ]
    },
    {
     "name": "stderr",
     "output_type": "stream",
     "text": [
      "Epoch 10/50 \u001b[34mTrain\u001b[0m: 100%|██████████| 313/313 [00:20<00:00, 15.35it/s]\n"
     ]
    },
    {
     "name": "stdout",
     "output_type": "stream",
     "text": [
      "Train Loss: 0.0048, Train Acc: 78.2975%\n"
     ]
    },
    {
     "name": "stderr",
     "output_type": "stream",
     "text": [
      "Epoch 10/50 \u001b[34mValid \u001b[0m: 100%|██████████| 79/79 [00:12<00:00,  6.20it/s, Valid Loss: 0.0006, Valid Acc: 78.460%]\n"
     ]
    },
    {
     "name": "stdout",
     "output_type": "stream",
     "text": [
      "--------------------------------------------------------------------------------------------------------------\n"
     ]
    },
    {
     "name": "stderr",
     "output_type": "stream",
     "text": [
      "Epoch 11/50 \u001b[34mTrain\u001b[0m: 100%|██████████| 313/313 [00:19<00:00, 15.83it/s]\n"
     ]
    },
    {
     "name": "stdout",
     "output_type": "stream",
     "text": [
      "Train Loss: 0.0045, Train Acc: 79.4950%\n"
     ]
    },
    {
     "name": "stderr",
     "output_type": "stream",
     "text": [
      "Epoch 11/50 \u001b[34mValid \u001b[0m: 100%|██████████| 79/79 [00:11<00:00,  6.90it/s, Valid Loss: 0.0015, Valid Acc: 78.430%]\n"
     ]
    },
    {
     "name": "stdout",
     "output_type": "stream",
     "text": [
      "--------------------------------------------------------------------------------------------------------------\n"
     ]
    },
    {
     "name": "stderr",
     "output_type": "stream",
     "text": [
      "Epoch 12/50 \u001b[34mTrain\u001b[0m: 100%|██████████| 313/313 [00:19<00:00, 15.82it/s]\n"
     ]
    },
    {
     "name": "stdout",
     "output_type": "stream",
     "text": [
      "Train Loss: 0.0043, Train Acc: 80.5850%\n"
     ]
    },
    {
     "name": "stderr",
     "output_type": "stream",
     "text": [
      "Epoch 12/50 \u001b[34mValid \u001b[0m: 100%|██████████| 79/79 [00:11<00:00,  6.93it/s, Valid Loss: 0.0015, Valid Acc: 79.380%]\n"
     ]
    },
    {
     "name": "stdout",
     "output_type": "stream",
     "text": [
      "--------------------------------------------------------------------------------------------------------------\n"
     ]
    },
    {
     "name": "stderr",
     "output_type": "stream",
     "text": [
      "Epoch 13/50 \u001b[34mTrain\u001b[0m: 100%|██████████| 313/313 [00:19<00:00, 15.80it/s]\n"
     ]
    },
    {
     "name": "stdout",
     "output_type": "stream",
     "text": [
      "Train Loss: 0.0041, Train Acc: 81.7775%\n"
     ]
    },
    {
     "name": "stderr",
     "output_type": "stream",
     "text": [
      "Epoch 13/50 \u001b[34mValid \u001b[0m: 100%|██████████| 79/79 [00:11<00:00,  6.72it/s, Valid Loss: 0.0010, Valid Acc: 79.630%]\n"
     ]
    },
    {
     "name": "stdout",
     "output_type": "stream",
     "text": [
      "--------------------------------------------------------------------------------------------------------------\n"
     ]
    },
    {
     "name": "stderr",
     "output_type": "stream",
     "text": [
      "Epoch 14/50 \u001b[34mTrain\u001b[0m: 100%|██████████| 313/313 [00:21<00:00, 14.59it/s]\n"
     ]
    },
    {
     "name": "stdout",
     "output_type": "stream",
     "text": [
      "Train Loss: 0.0038, Train Acc: 82.9050%\n"
     ]
    },
    {
     "name": "stderr",
     "output_type": "stream",
     "text": [
      "Epoch 14/50 \u001b[34mValid \u001b[0m: 100%|██████████| 79/79 [00:12<00:00,  6.30it/s, Valid Loss: 0.0009, Valid Acc: 80.300%]\n"
     ]
    },
    {
     "name": "stdout",
     "output_type": "stream",
     "text": [
      "--------------------------------------------------------------------------------------------------------------\n"
     ]
    },
    {
     "name": "stderr",
     "output_type": "stream",
     "text": [
      "Epoch 15/50 \u001b[34mTrain\u001b[0m: 100%|██████████| 313/313 [00:21<00:00, 14.78it/s]\n"
     ]
    },
    {
     "name": "stdout",
     "output_type": "stream",
     "text": [
      "Train Loss: 0.0037, Train Acc: 83.1100%\n"
     ]
    },
    {
     "name": "stderr",
     "output_type": "stream",
     "text": [
      "Epoch 15/50 \u001b[34mValid \u001b[0m: 100%|██████████| 79/79 [00:12<00:00,  6.27it/s, Valid Loss: 0.0006, Valid Acc: 80.800%]\n"
     ]
    },
    {
     "name": "stdout",
     "output_type": "stream",
     "text": [
      "--------------------------------------------------------------------------------------------------------------\n"
     ]
    },
    {
     "name": "stderr",
     "output_type": "stream",
     "text": [
      "Epoch 16/50 \u001b[34mTrain\u001b[0m: 100%|██████████| 313/313 [00:20<00:00, 15.15it/s]\n"
     ]
    },
    {
     "name": "stdout",
     "output_type": "stream",
     "text": [
      "Train Loss: 0.0035, Train Acc: 84.2700%\n"
     ]
    },
    {
     "name": "stderr",
     "output_type": "stream",
     "text": [
      "Epoch 16/50 \u001b[34mValid \u001b[0m: 100%|██████████| 79/79 [00:12<00:00,  6.53it/s, Valid Loss: 0.0008, Valid Acc: 80.520%]\n"
     ]
    },
    {
     "name": "stdout",
     "output_type": "stream",
     "text": [
      "--------------------------------------------------------------------------------------------------------------\n"
     ]
    },
    {
     "name": "stderr",
     "output_type": "stream",
     "text": [
      "Epoch 17/50 \u001b[34mTrain\u001b[0m: 100%|██████████| 313/313 [00:20<00:00, 15.03it/s]\n"
     ]
    },
    {
     "name": "stdout",
     "output_type": "stream",
     "text": [
      "Train Loss: 0.0033, Train Acc: 84.9250%\n"
     ]
    },
    {
     "name": "stderr",
     "output_type": "stream",
     "text": [
      "Epoch 17/50 \u001b[34mValid \u001b[0m: 100%|██████████| 79/79 [00:12<00:00,  6.16it/s, Valid Loss: 0.0013, Valid Acc: 81.460%]\n"
     ]
    },
    {
     "name": "stdout",
     "output_type": "stream",
     "text": [
      "--------------------------------------------------------------------------------------------------------------\n"
     ]
    },
    {
     "name": "stderr",
     "output_type": "stream",
     "text": [
      "Epoch 18/50 \u001b[34mTrain\u001b[0m: 100%|██████████| 313/313 [00:21<00:00, 14.62it/s]\n"
     ]
    },
    {
     "name": "stdout",
     "output_type": "stream",
     "text": [
      "Train Loss: 0.0031, Train Acc: 85.9350%\n"
     ]
    },
    {
     "name": "stderr",
     "output_type": "stream",
     "text": [
      "Epoch 18/50 \u001b[34mValid \u001b[0m: 100%|██████████| 79/79 [00:12<00:00,  6.11it/s, Valid Loss: 0.0010, Valid Acc: 81.050%]\n"
     ]
    },
    {
     "name": "stdout",
     "output_type": "stream",
     "text": [
      "--------------------------------------------------------------------------------------------------------------\n"
     ]
    },
    {
     "name": "stderr",
     "output_type": "stream",
     "text": [
      "Epoch 19/50 \u001b[34mTrain\u001b[0m: 100%|██████████| 313/313 [00:21<00:00, 14.53it/s]\n"
     ]
    },
    {
     "name": "stdout",
     "output_type": "stream",
     "text": [
      "Train Loss: 0.0030, Train Acc: 86.5075%\n"
     ]
    },
    {
     "name": "stderr",
     "output_type": "stream",
     "text": [
      "Epoch 19/50 \u001b[34mValid \u001b[0m: 100%|██████████| 79/79 [00:12<00:00,  6.08it/s, Valid Loss: 0.0003, Valid Acc: 81.690%]\n"
     ]
    },
    {
     "name": "stdout",
     "output_type": "stream",
     "text": [
      "--------------------------------------------------------------------------------------------------------------\n"
     ]
    },
    {
     "name": "stderr",
     "output_type": "stream",
     "text": [
      "Epoch 20/50 \u001b[34mTrain\u001b[0m: 100%|██████████| 313/313 [00:21<00:00, 14.72it/s]\n"
     ]
    },
    {
     "name": "stdout",
     "output_type": "stream",
     "text": [
      "Train Loss: 0.0028, Train Acc: 87.1575%\n"
     ]
    },
    {
     "name": "stderr",
     "output_type": "stream",
     "text": [
      "Epoch 20/50 \u001b[34mValid \u001b[0m: 100%|██████████| 79/79 [00:12<00:00,  6.26it/s, Valid Loss: 0.0003, Valid Acc: 82.130%]\n"
     ]
    },
    {
     "name": "stdout",
     "output_type": "stream",
     "text": [
      "--------------------------------------------------------------------------------------------------------------\n"
     ]
    },
    {
     "name": "stderr",
     "output_type": "stream",
     "text": [
      "Epoch 21/50 \u001b[34mTrain\u001b[0m: 100%|██████████| 313/313 [00:21<00:00, 14.69it/s]\n"
     ]
    },
    {
     "name": "stdout",
     "output_type": "stream",
     "text": [
      "Train Loss: 0.0027, Train Acc: 87.8300%\n"
     ]
    },
    {
     "name": "stderr",
     "output_type": "stream",
     "text": [
      "Epoch 21/50 \u001b[34mValid \u001b[0m: 100%|██████████| 79/79 [00:13<00:00,  6.03it/s, Valid Loss: 0.0004, Valid Acc: 81.850%]\n"
     ]
    },
    {
     "name": "stdout",
     "output_type": "stream",
     "text": [
      "--------------------------------------------------------------------------------------------------------------\n"
     ]
    },
    {
     "name": "stderr",
     "output_type": "stream",
     "text": [
      "Epoch 22/50 \u001b[34mTrain\u001b[0m: 100%|██████████| 313/313 [00:21<00:00, 14.50it/s]\n"
     ]
    },
    {
     "name": "stdout",
     "output_type": "stream",
     "text": [
      "Train Loss: 0.0025, Train Acc: 88.4950%\n"
     ]
    },
    {
     "name": "stderr",
     "output_type": "stream",
     "text": [
      "Epoch 22/50 \u001b[34mValid \u001b[0m: 100%|██████████| 79/79 [00:12<00:00,  6.50it/s, Valid Loss: 0.0015, Valid Acc: 82.430%]\n"
     ]
    },
    {
     "name": "stdout",
     "output_type": "stream",
     "text": [
      "--------------------------------------------------------------------------------------------------------------\n"
     ]
    },
    {
     "name": "stderr",
     "output_type": "stream",
     "text": [
      "Epoch 23/50 \u001b[34mTrain\u001b[0m: 100%|██████████| 313/313 [00:20<00:00, 15.09it/s]\n"
     ]
    },
    {
     "name": "stdout",
     "output_type": "stream",
     "text": [
      "Train Loss: 0.0024, Train Acc: 89.0350%\n"
     ]
    },
    {
     "name": "stderr",
     "output_type": "stream",
     "text": [
      "Epoch 23/50 \u001b[34mValid \u001b[0m: 100%|██████████| 79/79 [00:12<00:00,  6.55it/s, Valid Loss: 0.0002, Valid Acc: 82.220%]\n"
     ]
    },
    {
     "name": "stdout",
     "output_type": "stream",
     "text": [
      "--------------------------------------------------------------------------------------------------------------\n"
     ]
    },
    {
     "name": "stderr",
     "output_type": "stream",
     "text": [
      "Epoch 24/50 \u001b[34mTrain\u001b[0m: 100%|██████████| 313/313 [00:20<00:00, 15.56it/s]\n"
     ]
    },
    {
     "name": "stdout",
     "output_type": "stream",
     "text": [
      "Train Loss: 0.0023, Train Acc: 89.5525%\n"
     ]
    },
    {
     "name": "stderr",
     "output_type": "stream",
     "text": [
      "Epoch 24/50 \u001b[34mValid \u001b[0m: 100%|██████████| 79/79 [00:12<00:00,  6.56it/s, Valid Loss: 0.0010, Valid Acc: 82.260%]\n"
     ]
    },
    {
     "name": "stdout",
     "output_type": "stream",
     "text": [
      "--------------------------------------------------------------------------------------------------------------\n"
     ]
    },
    {
     "name": "stderr",
     "output_type": "stream",
     "text": [
      "Epoch 25/50 \u001b[34mTrain\u001b[0m: 100%|██████████| 313/313 [00:20<00:00, 15.11it/s]\n"
     ]
    },
    {
     "name": "stdout",
     "output_type": "stream",
     "text": [
      "Train Loss: 0.0022, Train Acc: 90.0025%\n"
     ]
    },
    {
     "name": "stderr",
     "output_type": "stream",
     "text": [
      "Epoch 25/50 \u001b[34mValid \u001b[0m: 100%|██████████| 79/79 [00:12<00:00,  6.44it/s, Valid Loss: 0.0022, Valid Acc: 82.180%]\n"
     ]
    },
    {
     "name": "stdout",
     "output_type": "stream",
     "text": [
      "--------------------------------------------------------------------------------------------------------------\n"
     ]
    },
    {
     "name": "stderr",
     "output_type": "stream",
     "text": [
      "Epoch 26/50 \u001b[34mTrain\u001b[0m: 100%|██████████| 313/313 [00:20<00:00, 15.38it/s]\n"
     ]
    },
    {
     "name": "stdout",
     "output_type": "stream",
     "text": [
      "Train Loss: 0.0020, Train Acc: 90.8575%\n"
     ]
    },
    {
     "name": "stderr",
     "output_type": "stream",
     "text": [
      "Epoch 26/50 \u001b[34mValid \u001b[0m: 100%|██████████| 79/79 [00:12<00:00,  6.35it/s, Valid Loss: 0.0006, Valid Acc: 82.840%]\n"
     ]
    },
    {
     "name": "stdout",
     "output_type": "stream",
     "text": [
      "--------------------------------------------------------------------------------------------------------------\n"
     ]
    },
    {
     "name": "stderr",
     "output_type": "stream",
     "text": [
      "Epoch 27/50 \u001b[34mTrain\u001b[0m: 100%|██████████| 313/313 [00:20<00:00, 15.34it/s]\n"
     ]
    },
    {
     "name": "stdout",
     "output_type": "stream",
     "text": [
      "Train Loss: 0.0020, Train Acc: 91.0200%\n"
     ]
    },
    {
     "name": "stderr",
     "output_type": "stream",
     "text": [
      "Epoch 27/50 \u001b[34mValid \u001b[0m: 100%|██████████| 79/79 [00:12<00:00,  6.30it/s, Valid Loss: 0.0004, Valid Acc: 82.640%]\n"
     ]
    },
    {
     "name": "stdout",
     "output_type": "stream",
     "text": [
      "--------------------------------------------------------------------------------------------------------------\n"
     ]
    },
    {
     "name": "stderr",
     "output_type": "stream",
     "text": [
      "Epoch 28/50 \u001b[34mTrain\u001b[0m: 100%|██████████| 313/313 [00:20<00:00, 14.97it/s]\n"
     ]
    },
    {
     "name": "stdout",
     "output_type": "stream",
     "text": [
      "Train Loss: 0.0019, Train Acc: 91.4925%\n"
     ]
    },
    {
     "name": "stderr",
     "output_type": "stream",
     "text": [
      "Epoch 28/50 \u001b[34mValid \u001b[0m: 100%|██████████| 79/79 [00:12<00:00,  6.23it/s, Valid Loss: 0.0005, Valid Acc: 83.010%]\n"
     ]
    },
    {
     "name": "stdout",
     "output_type": "stream",
     "text": [
      "--------------------------------------------------------------------------------------------------------------\n"
     ]
    },
    {
     "name": "stderr",
     "output_type": "stream",
     "text": [
      "Epoch 29/50 \u001b[34mTrain\u001b[0m: 100%|██████████| 313/313 [00:20<00:00, 15.21it/s]\n"
     ]
    },
    {
     "name": "stdout",
     "output_type": "stream",
     "text": [
      "Train Loss: 0.0018, Train Acc: 92.0975%\n"
     ]
    },
    {
     "name": "stderr",
     "output_type": "stream",
     "text": [
      "Epoch 29/50 \u001b[34mValid \u001b[0m: 100%|██████████| 79/79 [00:12<00:00,  6.33it/s, Valid Loss: 0.0002, Valid Acc: 82.870%]\n"
     ]
    },
    {
     "name": "stdout",
     "output_type": "stream",
     "text": [
      "--------------------------------------------------------------------------------------------------------------\n"
     ]
    },
    {
     "name": "stderr",
     "output_type": "stream",
     "text": [
      "Epoch 30/50 \u001b[34mTrain\u001b[0m: 100%|██████████| 313/313 [00:21<00:00, 14.32it/s]\n"
     ]
    },
    {
     "name": "stdout",
     "output_type": "stream",
     "text": [
      "Train Loss: 0.0017, Train Acc: 92.2250%\n"
     ]
    },
    {
     "name": "stderr",
     "output_type": "stream",
     "text": [
      "Epoch 30/50 \u001b[34mValid \u001b[0m: 100%|██████████| 79/79 [00:13<00:00,  6.04it/s, Valid Loss: 0.0001, Valid Acc: 82.660%]\n"
     ]
    },
    {
     "name": "stdout",
     "output_type": "stream",
     "text": [
      "--------------------------------------------------------------------------------------------------------------\n"
     ]
    },
    {
     "name": "stderr",
     "output_type": "stream",
     "text": [
      "Epoch 31/50 \u001b[34mTrain\u001b[0m: 100%|██████████| 313/313 [00:21<00:00, 14.77it/s]\n"
     ]
    },
    {
     "name": "stdout",
     "output_type": "stream",
     "text": [
      "Train Loss: 0.0016, Train Acc: 92.8375%\n"
     ]
    },
    {
     "name": "stderr",
     "output_type": "stream",
     "text": [
      "Epoch 31/50 \u001b[34mValid \u001b[0m: 100%|██████████| 79/79 [00:12<00:00,  6.17it/s, Valid Loss: 0.0005, Valid Acc: 83.270%]\n"
     ]
    },
    {
     "name": "stdout",
     "output_type": "stream",
     "text": [
      "--------------------------------------------------------------------------------------------------------------\n"
     ]
    },
    {
     "name": "stderr",
     "output_type": "stream",
     "text": [
      "Epoch 32/50 \u001b[34mTrain\u001b[0m: 100%|██████████| 313/313 [00:22<00:00, 13.97it/s]\n"
     ]
    },
    {
     "name": "stdout",
     "output_type": "stream",
     "text": [
      "Train Loss: 0.0015, Train Acc: 93.0800%\n"
     ]
    },
    {
     "name": "stderr",
     "output_type": "stream",
     "text": [
      "Epoch 32/50 \u001b[34mValid \u001b[0m: 100%|██████████| 79/79 [00:12<00:00,  6.17it/s, Valid Loss: 0.0001, Valid Acc: 82.830%]\n"
     ]
    },
    {
     "name": "stdout",
     "output_type": "stream",
     "text": [
      "--------------------------------------------------------------------------------------------------------------\n"
     ]
    },
    {
     "name": "stderr",
     "output_type": "stream",
     "text": [
      "Epoch 33/50 \u001b[34mTrain\u001b[0m: 100%|██████████| 313/313 [00:21<00:00, 14.89it/s]\n"
     ]
    },
    {
     "name": "stdout",
     "output_type": "stream",
     "text": [
      "Train Loss: 0.0015, Train Acc: 93.0825%\n"
     ]
    },
    {
     "name": "stderr",
     "output_type": "stream",
     "text": [
      "Epoch 33/50 \u001b[34mValid \u001b[0m: 100%|██████████| 79/79 [00:12<00:00,  6.28it/s, Valid Loss: 0.0023, Valid Acc: 82.950%]\n"
     ]
    },
    {
     "name": "stdout",
     "output_type": "stream",
     "text": [
      "--------------------------------------------------------------------------------------------------------------\n"
     ]
    },
    {
     "name": "stderr",
     "output_type": "stream",
     "text": [
      "Epoch 34/50 \u001b[34mTrain\u001b[0m: 100%|██████████| 313/313 [00:21<00:00, 14.63it/s]\n"
     ]
    },
    {
     "name": "stdout",
     "output_type": "stream",
     "text": [
      "Train Loss: 0.0014, Train Acc: 93.6200%\n"
     ]
    },
    {
     "name": "stderr",
     "output_type": "stream",
     "text": [
      "Epoch 34/50 \u001b[34mValid \u001b[0m: 100%|██████████| 79/79 [00:12<00:00,  6.46it/s, Valid Loss: 0.0024, Valid Acc: 83.190%]\n"
     ]
    },
    {
     "name": "stdout",
     "output_type": "stream",
     "text": [
      "--------------------------------------------------------------------------------------------------------------\n"
     ]
    },
    {
     "name": "stderr",
     "output_type": "stream",
     "text": [
      "Epoch 35/50 \u001b[34mTrain\u001b[0m: 100%|██████████| 313/313 [00:21<00:00, 14.44it/s]\n"
     ]
    },
    {
     "name": "stdout",
     "output_type": "stream",
     "text": [
      "Train Loss: 0.0013, Train Acc: 94.0200%\n"
     ]
    },
    {
     "name": "stderr",
     "output_type": "stream",
     "text": [
      "Epoch 35/50 \u001b[34mValid \u001b[0m: 100%|██████████| 79/79 [00:13<00:00,  5.89it/s, Valid Loss: 0.0008, Valid Acc: 83.610%]\n"
     ]
    },
    {
     "name": "stdout",
     "output_type": "stream",
     "text": [
      "--------------------------------------------------------------------------------------------------------------\n"
     ]
    },
    {
     "name": "stderr",
     "output_type": "stream",
     "text": [
      "Epoch 36/50 \u001b[34mTrain\u001b[0m: 100%|██████████| 313/313 [00:22<00:00, 14.11it/s]\n"
     ]
    },
    {
     "name": "stdout",
     "output_type": "stream",
     "text": [
      "Train Loss: 0.0013, Train Acc: 94.2900%\n"
     ]
    },
    {
     "name": "stderr",
     "output_type": "stream",
     "text": [
      "Epoch 36/50 \u001b[34mValid \u001b[0m: 100%|██████████| 79/79 [00:12<00:00,  6.40it/s, Valid Loss: 0.0004, Valid Acc: 82.860%]\n"
     ]
    },
    {
     "name": "stdout",
     "output_type": "stream",
     "text": [
      "--------------------------------------------------------------------------------------------------------------\n"
     ]
    },
    {
     "name": "stderr",
     "output_type": "stream",
     "text": [
      "Epoch 37/50 \u001b[34mTrain\u001b[0m: 100%|██████████| 313/313 [00:21<00:00, 14.65it/s]\n"
     ]
    },
    {
     "name": "stdout",
     "output_type": "stream",
     "text": [
      "Train Loss: 0.0013, Train Acc: 94.2600%\n"
     ]
    },
    {
     "name": "stderr",
     "output_type": "stream",
     "text": [
      "Epoch 37/50 \u001b[34mValid \u001b[0m: 100%|██████████| 79/79 [00:12<00:00,  6.43it/s, Valid Loss: 0.0018, Valid Acc: 82.690%]\n"
     ]
    },
    {
     "name": "stdout",
     "output_type": "stream",
     "text": [
      "--------------------------------------------------------------------------------------------------------------\n"
     ]
    },
    {
     "name": "stderr",
     "output_type": "stream",
     "text": [
      "Epoch 38/50 \u001b[34mTrain\u001b[0m: 100%|██████████| 313/313 [00:21<00:00, 14.85it/s]\n"
     ]
    },
    {
     "name": "stdout",
     "output_type": "stream",
     "text": [
      "Train Loss: 0.0012, Train Acc: 94.5175%\n"
     ]
    },
    {
     "name": "stderr",
     "output_type": "stream",
     "text": [
      "Epoch 38/50 \u001b[34mValid \u001b[0m: 100%|██████████| 79/79 [00:13<00:00,  5.89it/s, Valid Loss: 0.0008, Valid Acc: 83.210%]\n"
     ]
    },
    {
     "name": "stdout",
     "output_type": "stream",
     "text": [
      "--------------------------------------------------------------------------------------------------------------\n"
     ]
    },
    {
     "name": "stderr",
     "output_type": "stream",
     "text": [
      "Epoch 39/50 \u001b[34mTrain\u001b[0m: 100%|██████████| 313/313 [00:21<00:00, 14.52it/s]\n"
     ]
    },
    {
     "name": "stdout",
     "output_type": "stream",
     "text": [
      "Train Loss: 0.0011, Train Acc: 95.2200%\n"
     ]
    },
    {
     "name": "stderr",
     "output_type": "stream",
     "text": [
      "Epoch 39/50 \u001b[34mValid \u001b[0m: 100%|██████████| 79/79 [00:12<00:00,  6.18it/s, Valid Loss: 0.0018, Valid Acc: 83.350%]\n"
     ]
    },
    {
     "name": "stdout",
     "output_type": "stream",
     "text": [
      "--------------------------------------------------------------------------------------------------------------\n"
     ]
    },
    {
     "name": "stderr",
     "output_type": "stream",
     "text": [
      "Epoch 40/50 \u001b[34mTrain\u001b[0m: 100%|██████████| 313/313 [00:23<00:00, 13.46it/s]\n"
     ]
    },
    {
     "name": "stdout",
     "output_type": "stream",
     "text": [
      "Train Loss: 0.0011, Train Acc: 95.1625%\n"
     ]
    },
    {
     "name": "stderr",
     "output_type": "stream",
     "text": [
      "Epoch 40/50 \u001b[34mValid \u001b[0m: 100%|██████████| 79/79 [00:13<00:00,  6.00it/s, Valid Loss: 0.0005, Valid Acc: 83.120%]\n"
     ]
    },
    {
     "name": "stdout",
     "output_type": "stream",
     "text": [
      "--------------------------------------------------------------------------------------------------------------\n"
     ]
    },
    {
     "name": "stderr",
     "output_type": "stream",
     "text": [
      "Epoch 41/50 \u001b[34mTrain\u001b[0m: 100%|██████████| 313/313 [00:21<00:00, 14.33it/s]\n"
     ]
    },
    {
     "name": "stdout",
     "output_type": "stream",
     "text": [
      "Train Loss: 0.0011, Train Acc: 95.2550%\n"
     ]
    },
    {
     "name": "stderr",
     "output_type": "stream",
     "text": [
      "Epoch 41/50 \u001b[34mValid \u001b[0m: 100%|██████████| 79/79 [00:12<00:00,  6.12it/s, Valid Loss: 0.0008, Valid Acc: 83.190%]\n"
     ]
    },
    {
     "name": "stdout",
     "output_type": "stream",
     "text": [
      "--------------------------------------------------------------------------------------------------------------\n"
     ]
    },
    {
     "name": "stderr",
     "output_type": "stream",
     "text": [
      "Epoch 42/50 \u001b[34mTrain\u001b[0m: 100%|██████████| 313/313 [00:22<00:00, 14.06it/s]\n"
     ]
    },
    {
     "name": "stdout",
     "output_type": "stream",
     "text": [
      "Train Loss: 0.0010, Train Acc: 95.5275%\n"
     ]
    },
    {
     "name": "stderr",
     "output_type": "stream",
     "text": [
      "Epoch 42/50 \u001b[34mValid \u001b[0m: 100%|██████████| 79/79 [00:12<00:00,  6.25it/s, Valid Loss: 0.0022, Valid Acc: 83.070%]\n"
     ]
    },
    {
     "name": "stdout",
     "output_type": "stream",
     "text": [
      "--------------------------------------------------------------------------------------------------------------\n"
     ]
    },
    {
     "name": "stderr",
     "output_type": "stream",
     "text": [
      "Epoch 43/50 \u001b[34mTrain\u001b[0m: 100%|██████████| 313/313 [00:21<00:00, 14.23it/s]\n"
     ]
    },
    {
     "name": "stdout",
     "output_type": "stream",
     "text": [
      "Train Loss: 0.0010, Train Acc: 95.6600%\n"
     ]
    },
    {
     "name": "stderr",
     "output_type": "stream",
     "text": [
      "Epoch 43/50 \u001b[34mValid \u001b[0m: 100%|██████████| 79/79 [00:13<00:00,  6.01it/s, Valid Loss: 0.0005, Valid Acc: 83.160%]\n"
     ]
    },
    {
     "name": "stdout",
     "output_type": "stream",
     "text": [
      "--------------------------------------------------------------------------------------------------------------\n"
     ]
    },
    {
     "name": "stderr",
     "output_type": "stream",
     "text": [
      "Epoch 44/50 \u001b[34mTrain\u001b[0m: 100%|██████████| 313/313 [00:23<00:00, 13.16it/s]\n"
     ]
    },
    {
     "name": "stdout",
     "output_type": "stream",
     "text": [
      "Train Loss: 0.0009, Train Acc: 95.8525%\n"
     ]
    },
    {
     "name": "stderr",
     "output_type": "stream",
     "text": [
      "Epoch 44/50 \u001b[34mValid \u001b[0m: 100%|██████████| 79/79 [00:12<00:00,  6.09it/s, Valid Loss: 0.0005, Valid Acc: 83.110%]\n"
     ]
    },
    {
     "name": "stdout",
     "output_type": "stream",
     "text": [
      "--------------------------------------------------------------------------------------------------------------\n"
     ]
    },
    {
     "name": "stderr",
     "output_type": "stream",
     "text": [
      "Epoch 45/50 \u001b[34mTrain\u001b[0m: 100%|██████████| 313/313 [00:21<00:00, 14.24it/s]\n"
     ]
    },
    {
     "name": "stdout",
     "output_type": "stream",
     "text": [
      "Train Loss: 0.0009, Train Acc: 95.9625%\n"
     ]
    },
    {
     "name": "stderr",
     "output_type": "stream",
     "text": [
      "Epoch 45/50 \u001b[34mValid \u001b[0m: 100%|██████████| 79/79 [00:11<00:00,  6.67it/s, Valid Loss: 0.0006, Valid Acc: 83.220%]\n"
     ]
    },
    {
     "name": "stdout",
     "output_type": "stream",
     "text": [
      "--------------------------------------------------------------------------------------------------------------\n"
     ]
    },
    {
     "name": "stderr",
     "output_type": "stream",
     "text": [
      "Epoch 46/50 \u001b[34mTrain\u001b[0m: 100%|██████████| 313/313 [00:20<00:00, 15.46it/s]\n"
     ]
    },
    {
     "name": "stdout",
     "output_type": "stream",
     "text": [
      "Train Loss: 0.0009, Train Acc: 96.2350%\n"
     ]
    },
    {
     "name": "stderr",
     "output_type": "stream",
     "text": [
      "Epoch 46/50 \u001b[34mValid \u001b[0m: 100%|██████████| 79/79 [00:13<00:00,  6.00it/s, Valid Loss: 0.0013, Valid Acc: 83.530%]\n"
     ]
    },
    {
     "name": "stdout",
     "output_type": "stream",
     "text": [
      "--------------------------------------------------------------------------------------------------------------\n"
     ]
    },
    {
     "name": "stderr",
     "output_type": "stream",
     "text": [
      "Epoch 47/50 \u001b[34mTrain\u001b[0m: 100%|██████████| 313/313 [00:21<00:00, 14.64it/s]\n"
     ]
    },
    {
     "name": "stdout",
     "output_type": "stream",
     "text": [
      "Train Loss: 0.0009, Train Acc: 96.1300%\n"
     ]
    },
    {
     "name": "stderr",
     "output_type": "stream",
     "text": [
      "Epoch 47/50 \u001b[34mValid \u001b[0m: 100%|██████████| 79/79 [00:12<00:00,  6.26it/s, Valid Loss: 0.0021, Valid Acc: 83.260%]\n"
     ]
    },
    {
     "name": "stdout",
     "output_type": "stream",
     "text": [
      "--------------------------------------------------------------------------------------------------------------\n"
     ]
    },
    {
     "name": "stderr",
     "output_type": "stream",
     "text": [
      "Epoch 48/50 \u001b[34mTrain\u001b[0m: 100%|██████████| 313/313 [00:20<00:00, 15.49it/s]\n"
     ]
    },
    {
     "name": "stdout",
     "output_type": "stream",
     "text": [
      "Train Loss: 0.0008, Train Acc: 96.3575%\n"
     ]
    },
    {
     "name": "stderr",
     "output_type": "stream",
     "text": [
      "Epoch 48/50 \u001b[34mValid \u001b[0m: 100%|██████████| 79/79 [00:12<00:00,  6.49it/s, Valid Loss: 0.0003, Valid Acc: 83.600%]\n"
     ]
    },
    {
     "name": "stdout",
     "output_type": "stream",
     "text": [
      "--------------------------------------------------------------------------------------------------------------\n"
     ]
    },
    {
     "name": "stderr",
     "output_type": "stream",
     "text": [
      "Epoch 49/50 \u001b[34mTrain\u001b[0m: 100%|██████████| 313/313 [00:21<00:00, 14.67it/s]\n"
     ]
    },
    {
     "name": "stdout",
     "output_type": "stream",
     "text": [
      "Train Loss: 0.0008, Train Acc: 96.5600%\n"
     ]
    },
    {
     "name": "stderr",
     "output_type": "stream",
     "text": [
      "Epoch 49/50 \u001b[34mValid \u001b[0m: 100%|██████████| 79/79 [00:12<00:00,  6.51it/s, Valid Loss: 0.0019, Valid Acc: 83.360%]\n"
     ]
    },
    {
     "name": "stdout",
     "output_type": "stream",
     "text": [
      "--------------------------------------------------------------------------------------------------------------\n"
     ]
    },
    {
     "name": "stderr",
     "output_type": "stream",
     "text": [
      "Epoch 50/50 \u001b[34mTrain\u001b[0m: 100%|██████████| 313/313 [00:21<00:00, 14.68it/s]\n"
     ]
    },
    {
     "name": "stdout",
     "output_type": "stream",
     "text": [
      "Train Loss: 0.0008, Train Acc: 96.5850%\n"
     ]
    },
    {
     "name": "stderr",
     "output_type": "stream",
     "text": [
      "Epoch 50/50 \u001b[34mValid \u001b[0m: 100%|██████████| 79/79 [00:12<00:00,  6.15it/s, Valid Loss: 0.0012, Valid Acc: 83.570%]\n"
     ]
    },
    {
     "name": "stdout",
     "output_type": "stream",
     "text": [
      "--------------------------------------------------------------------------------------------------------------\n"
     ]
    },
    {
     "name": "stderr",
     "output_type": "stream",
     "text": [
      "Epoch 50/50 \u001b[34mTest \u001b[0m: 100%|██████████| 79/79 [00:10<00:00,  7.35it/s, Test Loss: 0.0014, Test Acc: 84.200%]\n"
     ]
    }
   ],
   "source": [
    "for epoch in range(epochs):\n",
    "    train(model, train_loader, criterion, optimizer, epoch)\n",
    "    valid_or_test('valid', model, device, valid_loader, epoch)\n",
    "\n",
    "# 테스트\n",
    "valid_or_test('test', model, device, test_loader, epoch)"
   ]
  },
  {
   "cell_type": "code",
   "execution_count": 12,
   "id": "96de9f51",
   "metadata": {},
   "outputs": [
    {
     "name": "stdout",
     "output_type": "stream",
     "text": [
      "50\n",
      "50\n",
      "50\n",
      "50\n"
     ]
    }
   ],
   "source": [
    "print(len(train_losses))\n",
    "print(len(valid_losses))\n",
    "print(len(train_accuracies))\n",
    "print(len(valid_accuracies))"
   ]
  },
  {
   "cell_type": "code",
   "execution_count": 13,
   "id": "928298e5",
   "metadata": {},
   "outputs": [
    {
     "data": {
      "text/plain": [
       "[tensor(0.0024),\n",
       " tensor(0.0025),\n",
       " tensor(0.0018),\n",
       " tensor(0.0015),\n",
       " tensor(0.0012),\n",
       " tensor(0.0019),\n",
       " tensor(0.0015),\n",
       " tensor(0.0011),\n",
       " tensor(0.0014),\n",
       " tensor(0.0006),\n",
       " tensor(0.0015),\n",
       " tensor(0.0015),\n",
       " tensor(0.0010),\n",
       " tensor(0.0009),\n",
       " tensor(0.0006),\n",
       " tensor(0.0008),\n",
       " tensor(0.0013),\n",
       " tensor(0.0010),\n",
       " tensor(0.0003),\n",
       " tensor(0.0003),\n",
       " tensor(0.0004),\n",
       " tensor(0.0015),\n",
       " tensor(0.0002),\n",
       " tensor(0.0010),\n",
       " tensor(0.0022),\n",
       " tensor(0.0006),\n",
       " tensor(0.0004),\n",
       " tensor(0.0005),\n",
       " tensor(0.0002),\n",
       " tensor(0.0001),\n",
       " tensor(0.0005),\n",
       " tensor(7.1263e-05),\n",
       " tensor(0.0023),\n",
       " tensor(0.0024),\n",
       " tensor(0.0008),\n",
       " tensor(0.0004),\n",
       " tensor(0.0018),\n",
       " tensor(0.0008),\n",
       " tensor(0.0018),\n",
       " tensor(0.0005),\n",
       " tensor(0.0008),\n",
       " tensor(0.0022),\n",
       " tensor(0.0005),\n",
       " tensor(0.0005),\n",
       " tensor(0.0006),\n",
       " tensor(0.0013),\n",
       " tensor(0.0021),\n",
       " tensor(0.0003),\n",
       " tensor(0.0019),\n",
       " tensor(0.0012)]"
      ]
     },
     "execution_count": 13,
     "metadata": {},
     "output_type": "execute_result"
    }
   ],
   "source": [
    "valid_losses"
   ]
  },
  {
   "cell_type": "code",
   "execution_count": 14,
   "id": "51fe8137-b3cd-462d-92e2-ac0929a546b2",
   "metadata": {},
   "outputs": [
    {
     "data": {
      "image/png": "[encoded data removed]",
      "text/plain": [
       "<Figure size 640x480 with 1 Axes>"
      ]
     },
     "metadata": {},
     "output_type": "display_data"
    },
    {
     "data": {
      "image/png": "[encoded data removed]",
      "text/plain": [
       "<Figure size 640x480 with 1 Axes>"
      ]
     },
     "metadata": {},
     "output_type": "display_data"
    }
   ],
   "source": [
    "import matplotlib.pyplot as plt\n",
    "\n",
    "# After the training loop\n",
    "\n",
    "# Plot training and validation loss\n",
    "plt.figure()\n",
    "plt.plot(train_losses, color='blue', label='Train Loss')\n",
    "plt.plot(valid_losses, color='orange', label='Valid Loss')\n",
    "plt.xlabel('Epochs')\n",
    "plt.ylabel('Loss')\n",
    "plt.show()\n",
    "\n",
    "# Plot training and validation accuracy\n",
    "plt.figure()\n",
    "plt.plot(train_accuracies, color='blue', label='Train Accuracy')\n",
    "plt.plot(valid_accuracies, color='orange', label='Valid Accuracy')\n",
    "plt.xlabel('Epochs')\n",
    "plt.ylabel('Accuracy (%)')\n",
    "plt.show()"
   ]
  }
 ],
 "metadata": {
  "kernelspec": {
   "display_name": "Python 3 (ipykernel)",
   "language": "python",
   "name": "python3"
  },
  "language_info": {
   "codemirror_mode": {
    "name": "ipython",
    "version": 3
   },
   "file_extension": ".py",
   "mimetype": "text/x-python",
   "name": "python",
   "nbconvert_exporter": "python",
   "pygments_lexer": "ipython3",
   "version": "3.10.14"
  }
 },
 "nbformat": 4,
 "nbformat_minor": 5
}
