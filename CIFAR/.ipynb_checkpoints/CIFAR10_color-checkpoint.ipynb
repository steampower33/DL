{
 "cells": [
  {
   "cell_type": "code",
   "execution_count": 2,
   "id": "6bf4e0ee-e116-4fca-b575-7c88f1b3bc20",
   "metadata": {},
   "outputs": [],
   "source": [
    "import torch\n",
    "import torch.nn as nn\n",
    "import torch.optim as optim\n",
    "import torchvision.transforms as transforms\n",
    "import torchvision.datasets as datasets\n",
    "from torch.utils.data import DataLoader, random_split\n",
    "from tqdm import tqdm"
   ]
  },
  {
   "cell_type": "code",
   "execution_count": 16,
   "id": "759d97f1-2b4f-4444-bc56-712afcc3284a",
   "metadata": {},
   "outputs": [
    {
     "name": "stderr",
     "output_type": "stream",
     "text": [
      "Train: 100%|█████████████████████████████████████████████████████████████████████████████████████████████████████| 10/10 [00:10<00:00,  1.01s/it]\n"
     ]
    }
   ],
   "source": [
    "import time\n",
    "\n",
    "with tqdm(total=10, desc=\"Train\") as pbar:\n",
    "    for i in range(10):\n",
    "        time.sleep(1)\n",
    "        pbar.update(1)"
   ]
  },
  {
   "cell_type": "code",
   "execution_count": 20,
   "id": "82a08e72-425b-4d73-9bdb-b72d14b6706e",
   "metadata": {},
   "outputs": [
    {
     "name": "stdout",
     "output_type": "stream",
     "text": [
      "Files already downloaded and verified\n",
      "Files already downloaded and verified\n"
     ]
    }
   ],
   "source": [
    "# 데이터 증강 및 정규화를 위한 변환 설정\n",
    "transform_train = transforms.Compose([\n",
    "    transforms.RandomCrop(32, padding=4),  # 데이터 증강: 랜덤하게 잘라내기\n",
    "    transforms.RandomHorizontalFlip(),      # 데이터 증강: 랜덤하게 좌우 반전\n",
    "    transforms.ToTensor(),\n",
    "    transforms.Normalize((0.4914, 0.4822, 0.4465), (0.2023, 0.1994, 0.2010)),  # 정규화\n",
    "])\n",
    "\n",
    "# test셋은 증식 X\n",
    "transform_test = transforms.Compose([\n",
    "    transforms.ToTensor(),\n",
    "    transforms.Normalize((0.4914, 0.4822, 0.4465), (0.2023, 0.1994, 0.2010)),\n",
    "])\n",
    "\n",
    "# CIFAR10 데이터셋 불러오기\n",
    "train_dataset = datasets.CIFAR10(root='./data', train=True, download=True, transform=transform_train)\n",
    "test_dataset = datasets.CIFAR10(root='./data', train=False, download=True, transform=transform_test)\n",
    "\n",
    "train_ratio = 0.8\n",
    "train_size = int(len(train_dataset) * train_ratio)\n",
    "valid_size = len(train_dataset) - train_size\n",
    "train_dataset, valid_dataset = random_split(train_dataset, [train_size, valid_size])\n",
    "\n",
    "# 데이터 로더 생성\n",
    "batch_size = 128  # 원하는 배치 크기 설정\n",
    "train_loader = DataLoader(train_dataset, batch_size=batch_size, shuffle=True, num_workers=2)\n",
    "valid_loader = DataLoader(valid_dataset, batch_size=batch_size, shuffle=False, num_workers=2)\n",
    "test_loader = DataLoader(test_dataset, batch_size=batch_size, shuffle=False, num_workers=2)"
   ]
  },
  {
   "cell_type": "code",
   "execution_count": 21,
   "id": "732561fb-74b0-48f2-8bc8-784975c2d414",
   "metadata": {},
   "outputs": [],
   "source": [
    "import torch\n",
    "import torch.nn as nn\n",
    "import torch.nn.functional as F\n",
    "\n",
    "# 입력 이미지 (3, 32, 32)\n",
    "# 출력 label -> 0~9\n",
    "classes = 10\n",
    "\n",
    "class CIFAR10Net(nn.Module):\n",
    "    def __init__(self):\n",
    "        super(CIFAR10Net, self).__init__()\n",
    "        # 합성곱 레이어 1\n",
    "        self.conv1 = nn.Conv2d(3, 32, kernel_size=3, padding=1)  # 입력 채널: 3, 출력 채널: 32\n",
    "        self.bn1 = nn.BatchNorm2d(32)  # 배치 정규화\n",
    "        \n",
    "        # 합성곱 레이어 2\n",
    "        self.conv2 = nn.Conv2d(32, 64, kernel_size=3, padding=1) # 입력 채널: 32, 출력 채널: 64\n",
    "        self.bn2 = nn.BatchNorm2d(64)\n",
    "\n",
    "        # 합성곱 레이어 3\n",
    "        self.conv3 = nn.Conv2d(64, 128, kernel_size=3, padding=1) # 입력 채널: 64, 출력 채널: 128\n",
    "        self.bn3 = nn.BatchNorm2d(128)\n",
    "\n",
    "        # 완전 연결 레이어\n",
    "        self.fc1 = nn.Linear(128 * 4 * 4, 512)  # 128 채널의 4x4 특성 맵을 512 유닛으로 변환\n",
    "        self.fc2 = nn.Linear(512, classes)  # 512 유닛을 10개의 클래스로 변환\n",
    "\n",
    "    def forward(self, x):\n",
    "        # 합성곱 레이어 1\n",
    "        x = self.conv1(x)\n",
    "        x = self.bn1(x)\n",
    "        x = F.relu(x)\n",
    "        x = F.max_pool2d(x, kernel_size=2, stride=2)  # 맥스 풀링\n",
    "\n",
    "        # 합성곱 레이어 2\n",
    "        x = self.conv2(x)\n",
    "        x = self.bn2(x)\n",
    "        x = F.relu(x)\n",
    "        x = F.max_pool2d(x, kernel_size=2, stride=2)  # 맥스 풀링\n",
    "\n",
    "        # 합성곱 레이어 3\n",
    "        x = self.conv3(x)\n",
    "        x = self.bn3(x)\n",
    "        x = F.relu(x)\n",
    "        x = F.max_pool2d(x, kernel_size=2, stride=2)  # 맥스 풀링\n",
    "\n",
    "        # 완전 연결 레이어\n",
    "        x = x.view(-1, 128 * 4 * 4)  # 텐서를 1차원으로 펼치기\n",
    "        x = F.relu(self.fc1(x))\n",
    "        x = self.fc2(x)\n",
    "        return x"
   ]
  },
  {
   "cell_type": "code",
   "execution_count": 22,
   "id": "0bd6d74b-4f3c-4141-a9de-3f5c75b229e2",
   "metadata": {},
   "outputs": [],
   "source": [
    "device = torch.device(\"cuda\" if torch.cuda.is_available() else \"cpu\")"
   ]
  },
  {
   "cell_type": "code",
   "execution_count": 24,
   "id": "8d191b07-75c7-4f86-a20e-badcfb752807",
   "metadata": {},
   "outputs": [],
   "source": [
    "lr = 0.001\n",
    "epochs = 50\n",
    "\n",
    "model = CIFAR10Net().to(device)\n",
    "criterion = nn.CrossEntropyLoss()\n",
    "optimizer = optim.Adam(model.parameters(), lr=lr)"
   ]
  },
  {
   "cell_type": "code",
   "execution_count": 25,
   "id": "4fd60f9d-d302-412c-8e9b-a74af69ee6e9",
   "metadata": {},
   "outputs": [],
   "source": [
    "train_losses = []\n",
    "valid_losses = []\n",
    "train_accuracies = []\n",
    "valid_accuracies = []"
   ]
  },
  {
   "cell_type": "code",
   "execution_count": 32,
   "id": "7def63ad-3dcf-4dad-b621-653338963c96",
   "metadata": {},
   "outputs": [
    {
     "name": "stdout",
     "output_type": "stream",
     "text": [
      "Epoch \u001b[31m11\u001b[0m/50 \u001b[34mTrain\u001b[0m\n"
     ]
    }
   ],
   "source": [
    "def train(model, train_loader, criterion, optimizer, epochs):\n",
    "    # 훈련 모드 설정\n",
    "    model.train()\n",
    "    train_loss = 0.0\n",
    "    train_correct = 0\n",
    "    train_total = 0\n",
    "\n",
    "    startStr = f'Epoch \\033[31m{epoch + 1:2d}\\033[0m/{epochs} \\033[34m' + 'Train' + '\\033[0m'\n",
    "    epoch = 10\n",
    "    with tqdm(total=len(train_loader), desc=startStr) as pbar:\n",
    "        for images, labels in train_loader:\n",
    "            images, labels = images.to(device), labels.to(device)\n",
    "    \n",
    "            optimizer.zero_grad()\n",
    "            outputs = model(images)\n",
    "            loss = criterion(outputs, labels)\n",
    "            loss.backward()\n",
    "            optimizer.step()\n",
    "    \n",
    "            train_loss += loss.item()\n",
    "            _, predicted = torch.max(outputs.data, 1)\n",
    "    \n",
    "            train_total += labels.size(0)\n",
    "            train_correct += (predicted == labels).sum().item()\n",
    "        endStr = f'Loss: {train_loss / (pbar.n + 1):.4f} Acc: {train_correct / train_total:.4f}'\n",
    "        pbar.set_postfix(endStr)\n",
    "        pbar.update(1)"
   ]
  },
  {
   "cell_type": "code",
   "execution_count": null,
   "id": "e0dc33a7-b652-43dd-93bc-a1d896fb5cc1",
   "metadata": {},
   "outputs": [],
   "source": []
  },
  {
   "cell_type": "code",
   "execution_count": null,
   "id": "51fe8137-b3cd-462d-92e2-ac0929a546b2",
   "metadata": {},
   "outputs": [],
   "source": []
  },
  {
   "cell_type": "code",
   "execution_count": null,
   "id": "378f8973-792e-4e6d-a5f7-246213592310",
   "metadata": {},
   "outputs": [],
   "source": []
  },
  {
   "cell_type": "code",
   "execution_count": null,
   "id": "73cf55ae-f097-430c-9405-466a9b810fb5",
   "metadata": {},
   "outputs": [],
   "source": []
  }
 ],
 "metadata": {
  "kernelspec": {
   "display_name": "Python 3 (ipykernel)",
   "language": "python",
   "name": "python3"
  },
  "language_info": {
   "codemirror_mode": {
    "name": "ipython",
    "version": 3
   },
   "file_extension": ".py",
   "mimetype": "text/x-python",
   "name": "python",
   "nbconvert_exporter": "python",
   "pygments_lexer": "ipython3",
   "version": "3.10.14"
  }
 },
 "nbformat": 4,
 "nbformat_minor": 5
}
